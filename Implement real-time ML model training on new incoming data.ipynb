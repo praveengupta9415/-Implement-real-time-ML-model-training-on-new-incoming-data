{
 "cells": [
  {
   "cell_type": "code",
   "execution_count": null,
   "id": "3f7b17d5",
   "metadata": {},
   "outputs": [],
   "source": [
    "#Set Up Real-Time Data Stream (Simulated)"
   ]
  },
  {
   "cell_type": "code",
   "execution_count": 7,
   "id": "573ee72a",
   "metadata": {},
   "outputs": [],
   "source": [
    "import pandas as pd\n",
    "import numpy as np\n",
    "import time\n",
    "\n",
    "# Simulate incoming data (e.g., new rows of data)\n",
    "def get_new_data():\n",
    "    new_data = pd.DataFrame({\n",
    "        'feature_1': np.random.rand(1),\n",
    "        'feature_2': np.random.rand(1),\n",
    "        'target': np.random.choice([0, 1], size=1)\n",
    "    })\n",
    "    return new_data\n"
   ]
  },
  {
   "cell_type": "code",
   "execution_count": null,
   "id": "322224d3",
   "metadata": {},
   "outputs": [],
   "source": [
    "#2. Data Preprocessing Pipeline"
   ]
  },
  {
   "cell_type": "code",
   "execution_count": 8,
   "id": "91272dc6",
   "metadata": {},
   "outputs": [],
   "source": [
    "from sklearn.preprocessing import StandardScaler\n",
    "\n",
    "# Preprocessing function\n",
    "scaler = StandardScaler()\n",
    "\n",
    "def preprocess_data(data):\n",
    "    # Example preprocessing: scaling features\n",
    "    features = data[['feature_1', 'feature_2']]\n",
    "    scaled_features = scaler.fit_transform(features)\n",
    "    data[['feature_1', 'feature_2']] = scaled_features\n",
    "    return data\n"
   ]
  },
  {
   "cell_type": "code",
   "execution_count": null,
   "id": "69b3731a",
   "metadata": {},
   "outputs": [],
   "source": [
    "#3. Training the Model"
   ]
  },
  {
   "cell_type": "code",
   "execution_count": null,
   "id": "64379ae0",
   "metadata": {},
   "outputs": [],
   "source": []
  },
  {
   "cell_type": "code",
   "execution_count": 9,
   "id": "1ef2470a",
   "metadata": {},
   "outputs": [],
   "source": [
    "from sklearn.linear_model import LogisticRegression\n",
    "\n",
    "# Initialize model\n",
    "model = LogisticRegression()\n",
    "\n",
    "# Function to train the model\n",
    "def train_model(data):\n",
    "    X = data[['feature_1', 'feature_2']]\n",
    "    y = data['target']\n",
    "    model.fit(X, y)\n",
    "    print(\"Model trained on new data!\")\n"
   ]
  },
  {
   "cell_type": "code",
   "execution_count": null,
   "id": "2125f62a",
   "metadata": {},
   "outputs": [],
   "source": [
    "#4. Simulating Real-Time Training"
   ]
  },
  {
   "cell_type": "code",
   "execution_count": 10,
   "id": "423dc067",
   "metadata": {},
   "outputs": [],
   "source": [
    "from sklearn.linear_model import LogisticRegression\n",
    "\n",
    "# Initialize model\n",
    "model = LogisticRegression()\n",
    "\n",
    "# Function to train the model\n",
    "def train_model(data):\n",
    "    X = data[['feature_1', 'feature_2']]\n",
    "    y = data['target']\n",
    "    model.fit(X, y)\n",
    "    print(\"Model trained on new data!\")\n"
   ]
  },
  {
   "cell_type": "code",
   "execution_count": null,
   "id": "f110f165",
   "metadata": {},
   "outputs": [],
   "source": []
  },
  {
   "cell_type": "code",
   "execution_count": 13,
   "id": "8a1ecaab",
   "metadata": {},
   "outputs": [],
   "source": []
  },
  {
   "cell_type": "code",
   "execution_count": null,
   "id": "6fc71347",
   "metadata": {},
   "outputs": [],
   "source": []
  },
  {
   "cell_type": "code",
   "execution_count": 15,
   "id": "b1f8a912",
   "metadata": {},
   "outputs": [],
   "source": [
    "# Simulate incoming data (multiple records)\n",
    "def get_new_data():\n",
    "    new_data = pd.DataFrame({\n",
    "        'feature_1': np.random.rand(5),  # Generating 5 rows at once\n",
    "        'feature_2': np.random.rand(5),\n",
    "        'target': np.random.choice([0, 1], size=5)  # Ensuring both classes (0 and 1) are included\n",
    "    })\n",
    "    return new_data\n"
   ]
  },
  {
   "cell_type": "code",
   "execution_count": null,
   "id": "3076c2e4",
   "metadata": {},
   "outputs": [],
   "source": []
  },
  {
   "cell_type": "code",
   "execution_count": 16,
   "id": "6ff2a200",
   "metadata": {},
   "outputs": [
    {
     "name": "stdout",
     "output_type": "stream",
     "text": [
      "New data received:\n",
      "   feature_1  feature_2  target\n",
      "0   0.999903   0.570772       1\n",
      "1   0.522847   0.954865       1\n",
      "2   0.310306   0.570049       1\n",
      "3   0.177539   0.870827       0\n",
      "4   0.928516   0.177591       1\n",
      "Model trained on new data!\n",
      "New data received:\n",
      "   feature_1  feature_2  target\n",
      "0   0.153684   0.653923       0\n",
      "1   0.035598   0.060160       1\n",
      "2   0.856324   0.285509       1\n",
      "3   0.149636   0.769909       0\n",
      "4   0.433184   0.934467       0\n",
      "Model trained on new data!\n",
      "New data received:\n",
      "   feature_1  feature_2  target\n",
      "0   0.953515   0.193894       1\n",
      "1   0.703161   0.970635       0\n",
      "2   0.392088   0.073275       0\n",
      "3   0.132018   0.152363       0\n",
      "4   0.492692   0.574245       0\n",
      "Model trained on new data!\n",
      "New data received:\n",
      "   feature_1  feature_2  target\n",
      "0   0.387914   0.668728       1\n",
      "1   0.614893   0.373850       0\n",
      "2   0.922621   0.357433       0\n",
      "3   0.246843   0.044315       1\n",
      "4   0.127539   0.720451       1\n",
      "Model trained on new data!\n",
      "New data received:\n",
      "   feature_1  feature_2  target\n",
      "0   0.099828   0.715201       0\n",
      "1   0.716665   0.689761       1\n",
      "2   0.978296   0.276033       1\n",
      "3   0.841474   0.020175       0\n",
      "4   0.175649   0.770479       0\n",
      "Model trained on new data!\n",
      "New data received:\n",
      "   feature_1  feature_2  target\n",
      "0   0.610686   0.796891       1\n",
      "1   0.393554   0.937694       0\n",
      "2   0.540752   0.307201       1\n",
      "3   0.363442   0.249632       1\n",
      "4   0.775925   0.930743       1\n",
      "Model trained on new data!\n",
      "New data received:\n",
      "   feature_1  feature_2  target\n",
      "0   0.205935   0.309840       0\n",
      "1   0.526213   0.520113       1\n",
      "2   0.149007   0.883676       1\n",
      "3   0.028190   0.469750       0\n",
      "4   0.889257   0.794492       0\n",
      "Model trained on new data!\n",
      "New data received:\n",
      "   feature_1  feature_2  target\n",
      "0   0.149997   0.644224       1\n",
      "1   0.725835   0.046918       0\n",
      "2   0.702605   0.721785       0\n",
      "3   0.164566   0.719244       1\n",
      "4   0.192115   0.425080       1\n",
      "Model trained on new data!\n",
      "New data received:\n",
      "   feature_1  feature_2  target\n",
      "0   0.322318   0.697010       1\n",
      "1   0.624748   0.350380       0\n",
      "2   0.058096   0.901741       0\n",
      "3   0.150624   0.622668       0\n",
      "4   0.444565   0.289328       0\n",
      "Model trained on new data!\n",
      "New data received:\n",
      "   feature_1  feature_2  target\n",
      "0   0.936465   0.729398       0\n",
      "1   0.965577   0.871016       1\n",
      "2   0.719252   0.492486       1\n",
      "3   0.870108   0.960082       1\n",
      "4   0.246797   0.646822       1\n",
      "Model trained on new data!\n"
     ]
    }
   ],
   "source": [
    "# Simulate real-time data stream\n",
    "for _ in range(10):  # Simulate receiving 10 batches of data\n",
    "    new_data = get_new_data()  # Get new incoming data\n",
    "    print(\"New data received:\")\n",
    "    print(new_data)\n",
    "    \n",
    "    # Preprocess the data\n",
    "    new_data = preprocess_data(new_data)\n",
    "    \n",
    "    # Train or update the model with new data\n",
    "    train_model(new_data)\n",
    "    \n",
    "    # Pause for a second to simulate time between data arrivals\n",
    "    time.sleep(2)"
   ]
  },
  {
   "cell_type": "code",
   "execution_count": null,
   "id": "485072ab",
   "metadata": {},
   "outputs": [],
   "source": [
    "#5. Monitoring Model Performance"
   ]
  },
  {
   "cell_type": "code",
   "execution_count": 17,
   "id": "5c3e0222",
   "metadata": {},
   "outputs": [
    {
     "name": "stdout",
     "output_type": "stream",
     "text": [
      "Model Accuracy: 50.00%\n"
     ]
    }
   ],
   "source": [
    "from sklearn.metrics import accuracy_score\n",
    "\n",
    "# Simulate validation data\n",
    "validation_data = pd.DataFrame({\n",
    "    'feature_1': [0.5, 0.7],\n",
    "    'feature_2': [0.4, 0.6],\n",
    "    'target': [1, 0]\n",
    "})\n",
    "\n",
    "# Preprocess validation data\n",
    "validation_data = preprocess_data(validation_data)\n",
    "\n",
    "# Predict using the current model\n",
    "predictions = model.predict(validation_data[['feature_1', 'feature_2']])\n",
    "\n",
    "# Check accuracy\n",
    "accuracy = accuracy_score(validation_data['target'], predictions)\n",
    "print(f\"Model Accuracy: {accuracy * 100:.2f}%\")\n"
   ]
  },
  {
   "cell_type": "code",
   "execution_count": 18,
   "id": "07f27018",
   "metadata": {},
   "outputs": [
    {
     "data": {
      "text/plain": [
       "['real_time_model.pkl']"
      ]
     },
     "execution_count": 18,
     "metadata": {},
     "output_type": "execute_result"
    }
   ],
   "source": [
    "import joblib\n",
    "\n",
    "# Save model\n",
    "joblib.dump(model, 'real_time_model.pkl')\n",
    "\n",
    "# Load model for predictions (when needed)\n",
    "# model = joblib.load('real_time_model.pkl')\n"
   ]
  },
  {
   "cell_type": "code",
   "execution_count": null,
   "id": "9ee39612",
   "metadata": {},
   "outputs": [],
   "source": []
  }
 ],
 "metadata": {
  "kernelspec": {
   "display_name": "Python 3 (ipykernel)",
   "language": "python",
   "name": "python3"
  },
  "language_info": {
   "codemirror_mode": {
    "name": "ipython",
    "version": 3
   },
   "file_extension": ".py",
   "mimetype": "text/x-python",
   "name": "python",
   "nbconvert_exporter": "python",
   "pygments_lexer": "ipython3",
   "version": "3.10.13"
  }
 },
 "nbformat": 4,
 "nbformat_minor": 5
}
